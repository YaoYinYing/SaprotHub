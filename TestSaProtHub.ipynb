{
  "nbformat": 4,
  "nbformat_minor": 0,
  "metadata": {
    "colab": {
      "provenance": [],
      "gpuType": "T4",
      "authorship_tag": "ABX9TyOHLH8t5QHqpeIqmTfsm3u4",
      "include_colab_link": true
    },
    "kernelspec": {
      "name": "python3",
      "display_name": "Python 3"
    },
    "language_info": {
      "name": "python"
    },
    "accelerator": "GPU"
  },
  "cells": [
    {
      "cell_type": "markdown",
      "metadata": {
        "id": "view-in-github",
        "colab_type": "text"
      },
      "source": [
        "<a href=\"https://colab.research.google.com/github/YaoYinYing/SaprotHub/blob/main/TestSaProtHub.ipynb\" target=\"_parent\"><img src=\"https://colab.research.google.com/assets/colab-badge.svg\" alt=\"Open In Colab\"/></a>"
      ]
    },
    {
      "cell_type": "markdown",
      "source": [
        "# Tests on SaProtHub, Yinying's fork"
      ],
      "metadata": {
        "id": "Q8RgCs7bk537"
      }
    },
    {
      "cell_type": "code",
      "execution_count": null,
      "metadata": {
        "id": "T3bFUz0-khMI"
      },
      "outputs": [],
      "source": [
        "! git clone https://github.com/YaoYinYing/SaprotHub; cd SaprotHub; pip install -q .; bash tests/run_tests.sh"
      ]
    }
  ]
}