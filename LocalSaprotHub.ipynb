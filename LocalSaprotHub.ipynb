{
  "cells": [
    {
      "cell_type": "markdown",
      "metadata": {
        "id": "view-in-github",
        "colab_type": "text"
      },
      "source": [
        "<a href=\"https://colab.research.google.com/github/YaoYinYing/SaprotHub/blob/pip-installable/LocalSaprotHub.ipynb\" target=\"_parent\"><img src=\"https://colab.research.google.com/assets/colab-badge.svg\" alt=\"Open In Colab\"/></a>"
      ]
    },
    {
      "cell_type": "markdown",
      "source": [
        "# Use local GPU to run SaprotHub and its tests\n",
        "\n",
        "\n",
        "## Connect to GPU server via ssh:\n",
        "```shell\n",
        "ssh <GPU_SSH alias>\n",
        "```\n",
        "\n",
        "## pull docker image of colabnotebook\n",
        "\n",
        "```shell\n",
        "docker pull us-docker.pkg.dev/colab-images/public/runtime\n",
        "```\n",
        "\n",
        "## try to drop existing container and start a new one with proxy server\n",
        "```shell\n",
        "docker kill colab;docker rm colab; docker run --gpus=all --dns 223.5.5.5 -d --name colab -e 'http_proxy=<...>' -e 'https_proxy=<...>' -e 'all_proxy=<...>' --restart=always -p 9000:8080 us-docker.pkg.dev/colab-images/public/runtime\n",
        "```\n",
        "\n",
        "## looking for notebook token\n",
        "```shell\n",
        "docker logs -f colab\n",
        "```\n",
        "\n",
        "##  back to local machine, a new ssh session to start tunnel that help with transmision of ports is required.\n",
        "```shell\n",
        "ssh -L 9001:localhost:9000 <GPU_SSH alias> -v\n",
        "```\n",
        "\n",
        "\n",
        "## Connect to Colab\n",
        "now open colab notebook and connect to this local runtime with `http://localhost:9001/?token=<your token>`\n",
        "\n",
        "ALL DONE!\n",
        "\n",
        "## Refences\n",
        "- https://research.google.com/colaboratory/local-runtimes.html\n"
      ],
      "metadata": {
        "id": "z4DhY6VpLvSH"
      }
    },
    {
      "cell_type": "code",
      "source": [
        "! pip install git+https://github.com/YaoYinYing/SaprotHub"
      ],
      "metadata": {
        "id": "CYIH3NJ6zcGh",
        "outputId": "faaa954d-fa0e-4454-d4dc-80905ca77b38",
        "colab": {
          "base_uri": "https://localhost:8080/"
        }
      },
      "execution_count": null,
      "outputs": [
        {
          "output_type": "stream",
          "name": "stdout",
          "text": [
            "Collecting git+https://github.com/YaoYinYing/SaprotHub\n",
            "  Cloning https://github.com/YaoYinYing/SaprotHub to /tmp/pip-req-build-8ki_g81h\n",
            "  Running command git clone --filter=blob:none --quiet https://github.com/YaoYinYing/SaprotHub /tmp/pip-req-build-8ki_g81h\n",
            "\u001b[31m  ERROR: Operation cancelled by user\u001b[0m\u001b[31m\n",
            "\u001b[0m"
          ]
        }
      ]
    },
    {
      "cell_type": "code",
      "source": [
        "! git clone https://github.com/YaoYinYing/SaprotHub"
      ],
      "metadata": {
        "id": "JcRuy4Ip0aBU",
        "outputId": "ca30aa28-a8e9-42f5-be8e-7e4937e85547",
        "colab": {
          "base_uri": "https://localhost:8080/"
        }
      },
      "execution_count": null,
      "outputs": [
        {
          "output_type": "stream",
          "name": "stdout",
          "text": [
            "Cloning into 'SaprotHub'...\n",
            "remote: Enumerating objects: 1082, done.\u001b[K\n",
            "remote: Counting objects: 100% (232/232), done.\u001b[K\n",
            "remote: Compressing objects: 100% (109/109), done.\u001b[K\n",
            "remote: Total 1082 (delta 122), reused 216 (delta 117), pack-reused 850\u001b[K\n",
            "Receiving objects: 100% (1082/1082), 73.08 MiB | 2.51 MiB/s, done.\n",
            "Resolving deltas: 100% (589/589), done.\n"
          ]
        }
      ]
    },
    {
      "cell_type": "code",
      "source": [
        "!cd SaprotHub; pip install ."
      ],
      "metadata": {
        "id": "gaY7U3n1IdBt",
        "outputId": "a033008f-71ae-4676-90cc-de1cdea311a3",
        "colab": {
          "base_uri": "https://localhost:8080/"
        }
      },
      "execution_count": null,
      "outputs": [
        {
          "output_type": "stream",
          "name": "stdout",
          "text": [
            "Processing /content/SaprotHub\n",
            "  Installing build dependencies ... \u001b[?25l\u001b[?25hdone\n",
            "  Getting requirements to build wheel ... \u001b[?25l\u001b[?25hdone\n",
            "  Preparing metadata (pyproject.toml) ... \u001b[?25l\u001b[?25hdone\n",
            "Collecting accelerate (from saprot==0.4.7)\n",
            "  Using cached accelerate-0.32.1-py3-none-any.whl (314 kB)\n",
            "Collecting bio==1.6.2 (from saprot==0.4.7)\n",
            "  Using cached bio-1.6.2-py3-none-any.whl (278 kB)\n",
            "Collecting biopython==1.83 (from saprot==0.4.7)\n",
            "  Using cached biopython-1.83-cp310-cp310-manylinux_2_17_x86_64.manylinux2014_x86_64.whl (3.1 MB)\n",
            "Collecting colorama (from saprot==0.4.7)\n",
            "  Using cached colorama-0.4.6-py2.py3-none-any.whl (25 kB)\n",
            "Requirement already satisfied: easydict==1.13 in /usr/local/lib/python3.10/dist-packages (from saprot==0.4.7) (1.13)\n",
            "Collecting fair-esm (from saprot==0.4.7)\n",
            "  Using cached fair_esm-2.0.0-py3-none-any.whl (93 kB)\n",
            "Requirement already satisfied: huggingface_hub in /usr/local/lib/python3.10/dist-packages (from saprot==0.4.7) (0.23.4)\n",
            "Collecting lmdb==1.4.1 (from saprot==0.4.7)\n",
            "  Using cached lmdb-1.4.1-cp310-cp310-manylinux_2_17_x86_64.manylinux2014_x86_64.whl (299 kB)\n",
            "Collecting loguru (from saprot==0.4.7)\n",
            "  Using cached loguru-0.7.2-py3-none-any.whl (62 kB)\n",
            "Requirement already satisfied: matplotlib in /usr/local/lib/python3.10/dist-packages (from saprot==0.4.7) (3.7.1)\n",
            "Collecting multiprocess (from saprot==0.4.7)\n",
            "  Using cached multiprocess-0.70.16-py310-none-any.whl (134 kB)\n",
            "Requirement already satisfied: pandas in /usr/local/lib/python3.10/dist-packages (from saprot==0.4.7) (2.0.3)\n",
            "Collecting peft==0.10.0 (from saprot==0.4.7)\n",
            "  Using cached peft-0.10.0-py3-none-any.whl (199 kB)\n",
            "Requirement already satisfied: platformdirs in /usr/local/lib/python3.10/dist-packages (from saprot==0.4.7) (4.2.2)\n",
            "Requirement already satisfied: pooch in /usr/local/lib/python3.10/dist-packages (from saprot==0.4.7) (1.8.2)\n",
            "Collecting pytorch-lightning==2.1.3 (from saprot==0.4.7)\n",
            "  Using cached pytorch_lightning-2.1.3-py3-none-any.whl (777 kB)\n",
            "Collecting scikit-learn==1.4.0 (from saprot==0.4.7)\n",
            "  Using cached scikit_learn-1.4.0-1-cp310-cp310-manylinux_2_17_x86_64.manylinux2014_x86_64.whl (12.1 MB)\n",
            "Requirement already satisfied: scipy in /usr/local/lib/python3.10/dist-packages (from saprot==0.4.7) (1.11.4)\n",
            "Requirement already satisfied: tabulate==0.9.0 in /usr/local/lib/python3.10/dist-packages (from saprot==0.4.7) (0.9.0)\n",
            "Collecting torch==2.0.1 (from saprot==0.4.7)\n",
            "  Using cached torch-2.0.1-cp310-cp310-manylinux1_x86_64.whl (619.9 MB)\n",
            "Collecting torchaudio==2.0.2 (from saprot==0.4.7)\n",
            "  Using cached torchaudio-2.0.2-cp310-cp310-manylinux1_x86_64.whl (4.4 MB)\n",
            "Collecting torchmetrics==0.9.3 (from saprot==0.4.7)\n",
            "  Using cached torchmetrics-0.9.3-py3-none-any.whl (419 kB)\n",
            "Collecting torchvision==0.15.2 (from saprot==0.4.7)\n",
            "  Using cached torchvision-0.15.2-cp310-cp310-manylinux1_x86_64.whl (6.0 MB)\n",
            "Collecting transformers==4.28.0 (from saprot==0.4.7)\n",
            "  Using cached transformers-4.28.0-py3-none-any.whl (7.0 MB)\n",
            "Collecting wandb (from saprot==0.4.7)\n",
            "  Downloading wandb-0.17.4-py3-none-manylinux_2_5_x86_64.manylinux1_x86_64.manylinux_2_17_x86_64.manylinux2014_x86_64.whl (6.9 MB)\n",
            "\u001b[2K     \u001b[90m━━━━━━━━━━━━━━━━━━━━━━━━━━━━━━━━━━━━━━━━\u001b[0m \u001b[32m6.9/6.9 MB\u001b[0m \u001b[31m1.5 MB/s\u001b[0m eta \u001b[36m0:00:00\u001b[0m\n",
            "\u001b[?25hRequirement already satisfied: requests in /usr/local/lib/python3.10/dist-packages (from bio==1.6.2->saprot==0.4.7) (2.31.0)\n",
            "Requirement already satisfied: tqdm in /usr/local/lib/python3.10/dist-packages (from bio==1.6.2->saprot==0.4.7) (4.66.4)\n",
            "Collecting mygene (from bio==1.6.2->saprot==0.4.7)\n",
            "  Downloading mygene-3.2.2-py2.py3-none-any.whl (5.4 kB)\n",
            "Collecting gprofiler-official (from bio==1.6.2->saprot==0.4.7)\n",
            "  Downloading gprofiler_official-1.0.0-py3-none-any.whl (9.3 kB)\n",
            "Requirement already satisfied: numpy in /usr/local/lib/python3.10/dist-packages (from biopython==1.83->saprot==0.4.7) (1.25.2)\n",
            "Requirement already satisfied: packaging>=20.0 in /usr/local/lib/python3.10/dist-packages (from peft==0.10.0->saprot==0.4.7) (24.1)\n",
            "Requirement already satisfied: psutil in /usr/local/lib/python3.10/dist-packages (from peft==0.10.0->saprot==0.4.7) (5.9.5)\n",
            "Requirement already satisfied: pyyaml in /usr/local/lib/python3.10/dist-packages (from peft==0.10.0->saprot==0.4.7) (6.0.1)\n",
            "Requirement already satisfied: safetensors in /usr/local/lib/python3.10/dist-packages (from peft==0.10.0->saprot==0.4.7) (0.4.3)\n",
            "Requirement already satisfied: fsspec[http]>=2022.5.0 in /usr/local/lib/python3.10/dist-packages (from pytorch-lightning==2.1.3->saprot==0.4.7) (2023.6.0)\n",
            "Requirement already satisfied: typing-extensions>=4.0.0 in /usr/local/lib/python3.10/dist-packages (from pytorch-lightning==2.1.3->saprot==0.4.7) (4.12.2)\n",
            "Collecting lightning-utilities>=0.8.0 (from pytorch-lightning==2.1.3->saprot==0.4.7)\n",
            "  Downloading lightning_utilities-0.11.3.post0-py3-none-any.whl (26 kB)\n",
            "Requirement already satisfied: joblib>=1.2.0 in /usr/local/lib/python3.10/dist-packages (from scikit-learn==1.4.0->saprot==0.4.7) (1.4.2)\n",
            "Requirement already satisfied: threadpoolctl>=2.0.0 in /usr/local/lib/python3.10/dist-packages (from scikit-learn==1.4.0->saprot==0.4.7) (3.5.0)\n",
            "Requirement already satisfied: filelock in /usr/local/lib/python3.10/dist-packages (from torch==2.0.1->saprot==0.4.7) (3.15.3)\n",
            "Requirement already satisfied: sympy in /usr/local/lib/python3.10/dist-packages (from torch==2.0.1->saprot==0.4.7) (1.12.1)\n",
            "Requirement already satisfied: networkx in /usr/local/lib/python3.10/dist-packages (from torch==2.0.1->saprot==0.4.7) (3.3)\n",
            "Requirement already satisfied: jinja2 in /usr/local/lib/python3.10/dist-packages (from torch==2.0.1->saprot==0.4.7) (3.1.4)\n",
            "Collecting nvidia-cuda-nvrtc-cu11==11.7.99 (from torch==2.0.1->saprot==0.4.7)\n",
            "  Downloading nvidia_cuda_nvrtc_cu11-11.7.99-2-py3-none-manylinux1_x86_64.whl (21.0 MB)\n",
            "\u001b[2K     \u001b[90m━━━━━━━━━━━━━━━━━━━━━━━━━━━━━━━━━━━━━━━━\u001b[0m \u001b[32m21.0/21.0 MB\u001b[0m \u001b[31m4.1 MB/s\u001b[0m eta \u001b[36m0:00:00\u001b[0m\n",
            "\u001b[?25hCollecting nvidia-cuda-runtime-cu11==11.7.99 (from torch==2.0.1->saprot==0.4.7)\n",
            "  Downloading nvidia_cuda_runtime_cu11-11.7.99-py3-none-manylinux1_x86_64.whl (849 kB)\n",
            "\u001b[2K     \u001b[90m━━━━━━━━━━━━━━━━━━━━━━━━━━━━━━━━━━━━━━━━\u001b[0m \u001b[32m849.3/849.3 kB\u001b[0m \u001b[31m1.2 MB/s\u001b[0m eta \u001b[36m0:00:00\u001b[0m\n",
            "\u001b[?25hCollecting nvidia-cuda-cupti-cu11==11.7.101 (from torch==2.0.1->saprot==0.4.7)\n",
            "  Downloading nvidia_cuda_cupti_cu11-11.7.101-py3-none-manylinux1_x86_64.whl (11.8 MB)\n",
            "\u001b[2K     \u001b[90m━━━━━━━━━━━━━━━━━━━━━━━━━━━━━━━━━━━━━━━━\u001b[0m \u001b[32m11.8/11.8 MB\u001b[0m \u001b[31m3.8 MB/s\u001b[0m eta \u001b[36m0:00:00\u001b[0m\n",
            "\u001b[?25hCollecting nvidia-cudnn-cu11==8.5.0.96 (from torch==2.0.1->saprot==0.4.7)\n",
            "  Downloading nvidia_cudnn_cu11-8.5.0.96-2-py3-none-manylinux1_x86_64.whl (557.1 MB)\n",
            "\u001b[2K     \u001b[90m━━━━━━━━━━━━━━━━━━━━━━━━━━━━━━━━━━━━━━━━\u001b[0m \u001b[32m557.1/557.1 MB\u001b[0m \u001b[31m1.7 MB/s\u001b[0m eta \u001b[36m0:00:00\u001b[0m\n",
            "\u001b[?25hCollecting nvidia-cublas-cu11==11.10.3.66 (from torch==2.0.1->saprot==0.4.7)\n",
            "  Downloading nvidia_cublas_cu11-11.10.3.66-py3-none-manylinux1_x86_64.whl (317.1 MB)\n",
            "\u001b[2K     \u001b[91m━━━━━━━━━━━━━━\u001b[0m\u001b[91m╸\u001b[0m\u001b[90m━━━━━━━━━━━━━━━━━━━━━━━━━\u001b[0m \u001b[32m117.4/317.1 MB\u001b[0m \u001b[31m2.7 MB/s\u001b[0m eta \u001b[36m0:01:15\u001b[0m"
          ]
        }
      ]
    },
    {
      "cell_type": "code",
      "source": [
        "!cd SaprotHub; bash tests/run_tests.sh"
      ],
      "metadata": {
        "id": "A_mPdIzS0gh-"
      },
      "execution_count": null,
      "outputs": []
    },
    {
      "cell_type": "code",
      "source": [
        "!cd SaprotHub; python tests/inverse_folding_refold.py"
      ],
      "metadata": {
        "id": "FaPDy2ME3XJU"
      },
      "execution_count": null,
      "outputs": []
    }
  ],
  "metadata": {
    "colab": {
      "provenance": [],
      "gpuType": "T4",
      "include_colab_link": true
    },
    "kernelspec": {
      "display_name": "Python 3",
      "name": "python3"
    },
    "accelerator": "GPU"
  },
  "nbformat": 4,
  "nbformat_minor": 0
}